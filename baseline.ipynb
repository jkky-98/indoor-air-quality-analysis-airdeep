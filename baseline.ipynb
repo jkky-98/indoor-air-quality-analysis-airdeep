{
 "cells": [
  {
   "cell_type": "markdown",
   "id": "f7444f30-0883-4a87-8e00-c5e5591a2a26",
   "metadata": {},
   "source": [
    "## Import"
   ]
  },
  {
   "cell_type": "code",
   "execution_count": 30,
   "id": "b85832b1-9f31-41e4-b934-cc260e5b3b1d",
   "metadata": {},
   "outputs": [],
   "source": [
    "import random\n",
    "import os\n",
    "import pandas as pd\n",
    "import numpy as np\n",
    "from tqdm.auto import tqdm\n",
    "from sklearn.preprocessing import LabelEncoder\n",
    "\n",
    "import torch\n",
    "import torch.nn as nn\n",
    "import torch.optim as optim\n",
    "import torch.nn.functional as F\n",
    "from torch.utils.data import Dataset, DataLoader\n",
    "from torch.utils.data import TensorDataset\n"
   ]
  },
  {
   "cell_type": "code",
   "execution_count": 3,
   "id": "b0259cfd-b37c-4716-aacf-c91d77e41480",
   "metadata": {},
   "outputs": [],
   "source": [
    "device = torch.device('cuda') if torch.cuda.is_available() else torch.device('cpu')"
   ]
  },
  {
   "cell_type": "markdown",
   "id": "07c2d47b-e9da-47e5-9155-cce997e63481",
   "metadata": {},
   "source": [
    "## Hyperparameter Setting"
   ]
  },
  {
   "cell_type": "code",
   "execution_count": 4,
   "id": "c9f50013-6513-44fd-8e48-06dd12ec3f63",
   "metadata": {},
   "outputs": [],
   "source": [
    "CFG = {\n",
    "    'TRAIN_WINDOW_SIZE':7*24*60, # 7일치로 학습 : 7*24*60\n",
    "    'PREDICT_SIZE':1*60, # 1시간 예측 : 1*60\n",
    "    'EPOCHS':10,\n",
    "    'LEARNING_RATE':1e-6,\n",
    "    'BATCH_SIZE':1024,\n",
    "    'SEED':41\n",
    "}"
   ]
  },
  {
   "cell_type": "code",
   "execution_count": 5,
   "id": "44cdbe67-eda2-42ef-bc35-0a2bfd99f211",
   "metadata": {},
   "outputs": [],
   "source": [
    "def seed_everything(seed):\n",
    "    random.seed(seed)\n",
    "    os.environ['PYTHONHASHSEED'] = str(seed)\n",
    "    np.random.seed(seed)\n",
    "    torch.manual_seed(seed)\n",
    "    torch.cuda.manual_seed(seed)\n",
    "    torch.backends.cudnn.deterministic = True\n",
    "    torch.backends.cudnn.benchmark = True\n",
    "\n",
    "seed_everything(CFG['SEED']) # Seed 고정"
   ]
  },
  {
   "cell_type": "markdown",
   "id": "7d68c38e",
   "metadata": {},
   "source": [
    "### 데이터 불러오기(0에 알아서 숫자 대입)"
   ]
  },
  {
   "cell_type": "code",
   "execution_count": 11,
   "id": "e3b89389",
   "metadata": {},
   "outputs": [],
   "source": [
    "# train_df1 = pd.read_csv('./data/airdeep_df1_831.csv').drop(columns=['Unnamed: 0'], axis=1)\n",
    "# train_df2 = pd.read_csv('./data/airdeep_df2_831.csv').drop(columns=['Unnamed: 0'], axis=1)\n",
    "# train_df3 = pd.read_csv('./data/airdeep_df2_831.csv').drop(columns=['Unnamed: 0'], axis=1)\n",
    "\n",
    "train_df1 = pd.read_csv('./data/5_27to8_19data_1.csv', encoding='euc-kr').drop(columns=['지점', '풍향(deg)', '풍속(m/s)'], axis=1)\n",
    "# holiday_raw = pd.read_csv('./data/holiday.csv')"
   ]
  },
  {
   "cell_type": "code",
   "execution_count": 14,
   "id": "d2caaa89",
   "metadata": {},
   "outputs": [
    {
     "data": {
      "text/html": [
       "<div>\n",
       "<style scoped>\n",
       "    .dataframe tbody tr th:only-of-type {\n",
       "        vertical-align: middle;\n",
       "    }\n",
       "\n",
       "    .dataframe tbody tr th {\n",
       "        vertical-align: top;\n",
       "    }\n",
       "\n",
       "    .dataframe thead th {\n",
       "        text-align: right;\n",
       "    }\n",
       "</style>\n",
       "<table border=\"1\" class=\"dataframe\">\n",
       "  <thead>\n",
       "    <tr style=\"text-align: right;\">\n",
       "      <th></th>\n",
       "      <th>일시</th>\n",
       "      <th>pm10_Average</th>\n",
       "      <th>pm2.5_Average</th>\n",
       "      <th>co2_Average</th>\n",
       "      <th>tvoc_Average</th>\n",
       "      <th>기온(°C)</th>\n",
       "      <th>누적강수량(mm)</th>\n",
       "      <th>습도(%)</th>\n",
       "    </tr>\n",
       "  </thead>\n",
       "  <tbody>\n",
       "    <tr>\n",
       "      <th>0</th>\n",
       "      <td>2023-05-27 00:00:00</td>\n",
       "      <td>7.0</td>\n",
       "      <td>6.5</td>\n",
       "      <td>438.0</td>\n",
       "      <td>150.5</td>\n",
       "      <td>18.6</td>\n",
       "      <td>0.0</td>\n",
       "      <td>75.5</td>\n",
       "    </tr>\n",
       "    <tr>\n",
       "      <th>1</th>\n",
       "      <td>2023-05-27 00:01:00</td>\n",
       "      <td>8.0</td>\n",
       "      <td>8.0</td>\n",
       "      <td>439.0</td>\n",
       "      <td>151.0</td>\n",
       "      <td>18.6</td>\n",
       "      <td>0.0</td>\n",
       "      <td>75.5</td>\n",
       "    </tr>\n",
       "    <tr>\n",
       "      <th>2</th>\n",
       "      <td>2023-05-27 00:02:00</td>\n",
       "      <td>10.5</td>\n",
       "      <td>9.5</td>\n",
       "      <td>438.5</td>\n",
       "      <td>154.0</td>\n",
       "      <td>18.6</td>\n",
       "      <td>0.0</td>\n",
       "      <td>75.5</td>\n",
       "    </tr>\n",
       "    <tr>\n",
       "      <th>3</th>\n",
       "      <td>2023-05-27 00:03:00</td>\n",
       "      <td>7.0</td>\n",
       "      <td>6.0</td>\n",
       "      <td>436.0</td>\n",
       "      <td>151.0</td>\n",
       "      <td>18.6</td>\n",
       "      <td>0.0</td>\n",
       "      <td>75.8</td>\n",
       "    </tr>\n",
       "    <tr>\n",
       "      <th>4</th>\n",
       "      <td>2023-05-27 00:04:00</td>\n",
       "      <td>9.0</td>\n",
       "      <td>7.0</td>\n",
       "      <td>438.0</td>\n",
       "      <td>152.0</td>\n",
       "      <td>18.6</td>\n",
       "      <td>0.0</td>\n",
       "      <td>75.7</td>\n",
       "    </tr>\n",
       "  </tbody>\n",
       "</table>\n",
       "</div>"
      ],
      "text/plain": [
       "                    일시  pm10_Average  pm2.5_Average  co2_Average  \\\n",
       "0  2023-05-27 00:00:00           7.0            6.5        438.0   \n",
       "1  2023-05-27 00:01:00           8.0            8.0        439.0   \n",
       "2  2023-05-27 00:02:00          10.5            9.5        438.5   \n",
       "3  2023-05-27 00:03:00           7.0            6.0        436.0   \n",
       "4  2023-05-27 00:04:00           9.0            7.0        438.0   \n",
       "\n",
       "   tvoc_Average  기온(°C)  누적강수량(mm)  습도(%)  \n",
       "0         150.5    18.6        0.0   75.5  \n",
       "1         151.0    18.6        0.0   75.5  \n",
       "2         154.0    18.6        0.0   75.5  \n",
       "3         151.0    18.6        0.0   75.8  \n",
       "4         152.0    18.6        0.0   75.7  "
      ]
     },
     "execution_count": 14,
     "metadata": {},
     "output_type": "execute_result"
    }
   ],
   "source": [
    "train_df1.head()"
   ]
  },
  {
   "cell_type": "code",
   "execution_count": 15,
   "id": "654f66ca",
   "metadata": {},
   "outputs": [
    {
     "name": "stdout",
     "output_type": "stream",
     "text": [
      "<class 'pandas.core.frame.DataFrame'>\n",
      "RangeIndex: 133921 entries, 0 to 133920\n",
      "Data columns (total 8 columns):\n",
      " #   Column         Non-Null Count   Dtype  \n",
      "---  ------         --------------   -----  \n",
      " 0   일시             133921 non-null  object \n",
      " 1   pm10_Average   133921 non-null  float64\n",
      " 2   pm2.5_Average  133921 non-null  float64\n",
      " 3   co2_Average    133921 non-null  float64\n",
      " 4   tvoc_Average   133921 non-null  float64\n",
      " 5   기온(°C)         133921 non-null  float64\n",
      " 6   누적강수량(mm)      133921 non-null  float64\n",
      " 7   습도(%)          133921 non-null  float64\n",
      "dtypes: float64(7), object(1)\n",
      "memory usage: 8.2+ MB\n"
     ]
    }
   ],
   "source": [
    "train_df1.info()\n",
    "# train_df2.info()\n",
    "# train_df3.info()"
   ]
  },
  {
   "cell_type": "markdown",
   "id": "d21e80a6",
   "metadata": {},
   "source": [
    "### 데이터 전처리"
   ]
  },
  {
   "cell_type": "markdown",
   "id": "e3596c16",
   "metadata": {},
   "source": [
    "scaling - train, price"
   ]
  },
  {
   "cell_type": "code",
   "execution_count": 16,
   "id": "a033efe8",
   "metadata": {},
   "outputs": [],
   "source": [
    "'''train scaling'''\n",
    "\n",
    "# 숫자형 변수들의 min-max scaling을 수행하는 코드입니다.\n",
    "numeric_cols = train_df1.columns[1:]\n",
    "\n",
    "# 칵 column의 min 및 max 계산\n",
    "min_values = train_df1[numeric_cols].min(axis=1)\n",
    "max_values = train_df1[numeric_cols].max(axis=1)\n",
    "\n",
    "# 각 행의 범위(max-min)를 계산하고, 범위가 0인 경우 1로 대체\n",
    "ranges = max_values - min_values\n",
    "ranges[ranges == 0] = 1\n",
    "\n",
    "# min-max scaling 수행\n",
    "train_df1[numeric_cols] = (train_df1[numeric_cols].subtract(min_values, axis=0)).div(ranges, axis=0)\n",
    "\n",
    "# max와 min 값을 dictionary 형태로 저장\n",
    "scale_min_dict = min_values.to_dict()\n",
    "scale_max_dict = max_values.to_dict()"
   ]
  },
  {
   "cell_type": "code",
   "execution_count": 17,
   "id": "553e1596",
   "metadata": {},
   "outputs": [
    {
     "data": {
      "text/html": [
       "<div>\n",
       "<style scoped>\n",
       "    .dataframe tbody tr th:only-of-type {\n",
       "        vertical-align: middle;\n",
       "    }\n",
       "\n",
       "    .dataframe tbody tr th {\n",
       "        vertical-align: top;\n",
       "    }\n",
       "\n",
       "    .dataframe thead th {\n",
       "        text-align: right;\n",
       "    }\n",
       "</style>\n",
       "<table border=\"1\" class=\"dataframe\">\n",
       "  <thead>\n",
       "    <tr style=\"text-align: right;\">\n",
       "      <th></th>\n",
       "      <th>일시</th>\n",
       "      <th>pm10_Average</th>\n",
       "      <th>pm2.5_Average</th>\n",
       "      <th>co2_Average</th>\n",
       "      <th>tvoc_Average</th>\n",
       "      <th>기온(°C)</th>\n",
       "      <th>누적강수량(mm)</th>\n",
       "      <th>습도(%)</th>\n",
       "    </tr>\n",
       "  </thead>\n",
       "  <tbody>\n",
       "    <tr>\n",
       "      <th>0</th>\n",
       "      <td>2023-05-27 00:00:00</td>\n",
       "      <td>0.015982</td>\n",
       "      <td>0.014840</td>\n",
       "      <td>1.0</td>\n",
       "      <td>0.343607</td>\n",
       "      <td>0.042466</td>\n",
       "      <td>0.0</td>\n",
       "      <td>0.172374</td>\n",
       "    </tr>\n",
       "    <tr>\n",
       "      <th>1</th>\n",
       "      <td>2023-05-27 00:01:00</td>\n",
       "      <td>0.018223</td>\n",
       "      <td>0.018223</td>\n",
       "      <td>1.0</td>\n",
       "      <td>0.343964</td>\n",
       "      <td>0.042369</td>\n",
       "      <td>0.0</td>\n",
       "      <td>0.171982</td>\n",
       "    </tr>\n",
       "    <tr>\n",
       "      <th>2</th>\n",
       "      <td>2023-05-27 00:02:00</td>\n",
       "      <td>0.023945</td>\n",
       "      <td>0.021665</td>\n",
       "      <td>1.0</td>\n",
       "      <td>0.351197</td>\n",
       "      <td>0.042417</td>\n",
       "      <td>0.0</td>\n",
       "      <td>0.172178</td>\n",
       "    </tr>\n",
       "    <tr>\n",
       "      <th>3</th>\n",
       "      <td>2023-05-27 00:03:00</td>\n",
       "      <td>0.016055</td>\n",
       "      <td>0.013761</td>\n",
       "      <td>1.0</td>\n",
       "      <td>0.346330</td>\n",
       "      <td>0.042661</td>\n",
       "      <td>0.0</td>\n",
       "      <td>0.173853</td>\n",
       "    </tr>\n",
       "    <tr>\n",
       "      <th>4</th>\n",
       "      <td>2023-05-27 00:04:00</td>\n",
       "      <td>0.020548</td>\n",
       "      <td>0.015982</td>\n",
       "      <td>1.0</td>\n",
       "      <td>0.347032</td>\n",
       "      <td>0.042466</td>\n",
       "      <td>0.0</td>\n",
       "      <td>0.172831</td>\n",
       "    </tr>\n",
       "  </tbody>\n",
       "</table>\n",
       "</div>"
      ],
      "text/plain": [
       "                    일시  pm10_Average  pm2.5_Average  co2_Average  \\\n",
       "0  2023-05-27 00:00:00      0.015982       0.014840          1.0   \n",
       "1  2023-05-27 00:01:00      0.018223       0.018223          1.0   \n",
       "2  2023-05-27 00:02:00      0.023945       0.021665          1.0   \n",
       "3  2023-05-27 00:03:00      0.016055       0.013761          1.0   \n",
       "4  2023-05-27 00:04:00      0.020548       0.015982          1.0   \n",
       "\n",
       "   tvoc_Average    기온(°C)  누적강수량(mm)     습도(%)  \n",
       "0      0.343607  0.042466        0.0  0.172374  \n",
       "1      0.343964  0.042369        0.0  0.171982  \n",
       "2      0.351197  0.042417        0.0  0.172178  \n",
       "3      0.346330  0.042661        0.0  0.173853  \n",
       "4      0.347032  0.042466        0.0  0.172831  "
      ]
     },
     "execution_count": 17,
     "metadata": {},
     "output_type": "execute_result"
    }
   ],
   "source": [
    "train_df1.head()"
   ]
  },
  {
   "cell_type": "markdown",
   "id": "c22e0210",
   "metadata": {},
   "source": [
    "# train/predict 데이터셋 생성"
   ]
  },
  {
   "cell_type": "markdown",
   "id": "0b18f52b",
   "metadata": {},
   "source": [
    "### 코드 분석(주석 참고)"
   ]
  },
  {
   "cell_type": "markdown",
   "id": "4d82652e",
   "metadata": {},
   "source": [
    "### 데이터셋 생성"
   ]
  },
  {
   "cell_type": "code",
   "execution_count": 28,
   "id": "76296319",
   "metadata": {},
   "outputs": [],
   "source": [
    "# 데이터셋 생성 함수\n",
    "def build_dataset(data, seq_length=CFG['PREDICT_SIZE'] + CFG['TRAIN_WINDOW_SIZE']):\n",
    "    dataX = []\n",
    "    dataY = []\n",
    "    for i in range(0, len(data)-seq_length):\n",
    "        _x = data[i:i+seq_length, :]\n",
    "        _y = data[i+seq_length, [-1]]\n",
    "        # print(_x, \"-->\",_y)\n",
    "        dataX.append(_x)\n",
    "        dataY.append(_y)\n",
    "\n",
    "    return np.array(dataX), np.array(dataY)"
   ]
  },
  {
   "cell_type": "code",
   "execution_count": 29,
   "id": "19616b46",
   "metadata": {},
   "outputs": [
    {
     "ename": "MemoryError",
     "evalue": "Unable to allocate 74.8 GiB for an array with shape (123781, 10140, 8) and data type object",
     "output_type": "error",
     "traceback": [
      "\u001b[1;31m---------------------------------------------------------------------------\u001b[0m",
      "\u001b[1;31mMemoryError\u001b[0m                               Traceback (most recent call last)",
      "\u001b[1;32mc:\\Users\\leeja\\바탕 화면\\2023-2\\(산학) Airdeep\\code\\baseline.ipynb Cell 19\u001b[0m line \u001b[0;36m1\n\u001b[1;32m----> <a href='vscode-notebook-cell:/c%3A/Users/leeja/%EB%B0%94%ED%83%95%20%ED%99%94%EB%A9%B4/2023-2/%28%EC%82%B0%ED%95%99%29%20Airdeep/code/baseline.ipynb#X62sZmlsZQ%3D%3D?line=0'>1</a>\u001b[0m trainX, trainY \u001b[39m=\u001b[39m build_dataset(np\u001b[39m.\u001b[39;49marray(train_df1))\n\u001b[0;32m      <a href='vscode-notebook-cell:/c%3A/Users/leeja/%EB%B0%94%ED%83%95%20%ED%99%94%EB%A9%B4/2023-2/%28%EC%82%B0%ED%95%99%29%20Airdeep/code/baseline.ipynb#X62sZmlsZQ%3D%3D?line=1'>2</a>\u001b[0m testX, testY \u001b[39m=\u001b[39m build_dataset(np\u001b[39m.\u001b[39marray(train_df1))\n",
      "\u001b[1;32mc:\\Users\\leeja\\바탕 화면\\2023-2\\(산학) Airdeep\\code\\baseline.ipynb Cell 19\u001b[0m line \u001b[0;36m1\n\u001b[0;32m      <a href='vscode-notebook-cell:/c%3A/Users/leeja/%EB%B0%94%ED%83%95%20%ED%99%94%EB%A9%B4/2023-2/%28%EC%82%B0%ED%95%99%29%20Airdeep/code/baseline.ipynb#X62sZmlsZQ%3D%3D?line=8'>9</a>\u001b[0m     dataX\u001b[39m.\u001b[39mappend(_x)\n\u001b[0;32m     <a href='vscode-notebook-cell:/c%3A/Users/leeja/%EB%B0%94%ED%83%95%20%ED%99%94%EB%A9%B4/2023-2/%28%EC%82%B0%ED%95%99%29%20Airdeep/code/baseline.ipynb#X62sZmlsZQ%3D%3D?line=9'>10</a>\u001b[0m     dataY\u001b[39m.\u001b[39mappend(_y)\n\u001b[1;32m---> <a href='vscode-notebook-cell:/c%3A/Users/leeja/%EB%B0%94%ED%83%95%20%ED%99%94%EB%A9%B4/2023-2/%28%EC%82%B0%ED%95%99%29%20Airdeep/code/baseline.ipynb#X62sZmlsZQ%3D%3D?line=11'>12</a>\u001b[0m \u001b[39mreturn\u001b[39;00m np\u001b[39m.\u001b[39marray(dataX), np\u001b[39m.\u001b[39marray(dataY)\n",
      "\u001b[1;31mMemoryError\u001b[0m: Unable to allocate 74.8 GiB for an array with shape (123781, 10140, 8) and data type object"
     ]
    }
   ],
   "source": [
    "train_input, train_target = build_dataset(np.array(train_df1))\n",
    "# val_input, val_target = build_dataset(np.array(train_df1))"
   ]
  },
  {
   "cell_type": "code",
   "execution_count": null,
   "id": "966faaef",
   "metadata": {},
   "outputs": [],
   "source": [
    "# 텐서로 변환\n",
    "train_input_tensor = torch.FloatTensor(train_input)\n",
    "train_target_tensor = torch.FloatTensor(train_target)"
   ]
  },
  {
   "cell_type": "code",
   "execution_count": null,
   "id": "b2fe9593",
   "metadata": {},
   "outputs": [],
   "source": [
    "# 텐서 형태로 데이터 정의\n",
    "dataset = TensorDataset(train_input_tensor, train_target_tensor)\n",
    "\n",
    "# 데이터로더는 기본적으로 2개의 인자를 입력받으며 배치크기는 통상적으로 2의 배수를 사용\n",
    "dataloader = DataLoader(dataset,\n",
    "                        batch_size=CFG['BATCH_SIZE'],\n",
    "                        shuffle=True,  \n",
    "                        drop_last=True)"
   ]
  },
  {
   "cell_type": "code",
   "execution_count": null,
   "id": "8fb9ca83",
   "metadata": {},
   "outputs": [],
   "source": [
    "# Train / Validation Split\n",
    "data_len = len(train_input)\n",
    "val_input = train_input[-int(data_len*0.2):]\n",
    "val_target = train_target[-int(data_len*0.2):]\n",
    "train_input = train_input[:-int(data_len*0.2)]\n",
    "train_target = train_target[:-int(data_len*0.2)]"
   ]
  },
  {
   "cell_type": "code",
   "execution_count": null,
   "id": "6f4e69e5",
   "metadata": {},
   "outputs": [
    {
     "data": {
      "text/plain": [
       "((1070112, 90, 9), (1070112, 21), (267528, 90, 9), (267528, 21), (3768, 90, 9))"
      ]
     },
     "metadata": {},
     "output_type": "display_data"
    }
   ],
   "source": [
    "train_input.shape, train_target.shape, val_input.shape, val_target.shape"
   ]
  },
  {
   "cell_type": "markdown",
   "id": "4af56b88",
   "metadata": {},
   "source": [
    "### Custom Dataset"
   ]
  },
  {
   "cell_type": "code",
   "execution_count": null,
   "id": "83fc2d83",
   "metadata": {},
   "outputs": [],
   "source": [
    "class CustomDataset(Dataset):\n",
    "    def __init__(self, X, Y):\n",
    "        self.X = X\n",
    "        self.Y = Y\n",
    "        \n",
    "    def __getitem__(self, index):\n",
    "        if self.Y is not None:\n",
    "            return torch.Tensor(self.X[index]), torch.Tensor(self.Y[index])\n",
    "        return torch.Tensor(self.X[index])\n",
    "    \n",
    "    def __len__(self):\n",
    "        return len(self.X)"
   ]
  },
  {
   "cell_type": "code",
   "execution_count": null,
   "id": "8aa5de85",
   "metadata": {},
   "outputs": [],
   "source": [
    "train_dataset = CustomDataset(train_input, train_target)\n",
    "train_loader = DataLoader(train_dataset, batch_size = CFG['BATCH_SIZE'], shuffle=True, num_workers=0)\n",
    "\n",
    "val_dataset = CustomDataset(val_input, val_target)\n",
    "val_loader = DataLoader(val_dataset, batch_size = CFG['BATCH_SIZE'], shuffle=False, num_workers=0)"
   ]
  },
  {
   "cell_type": "markdown",
   "id": "e2898c5b",
   "metadata": {},
   "source": [
    "### 모델 선언"
   ]
  },
  {
   "cell_type": "code",
   "execution_count": null,
   "id": "8b6cde40",
   "metadata": {},
   "outputs": [],
   "source": [
    "class BaseModel(nn.Module):\n",
    "    def __init__(self, input_size=7, hidden_size=512, output_size=CFG['PREDICT_SIZE']):\n",
    "        super(BaseModel, self).__init__()\n",
    "        self.hidden_size = hidden_size\n",
    "        self.lstm = nn.LSTM(input_size, hidden_size, batch_first=True)\n",
    "        self.fc = nn.Sequential(\n",
    "            nn.Linear(hidden_size, hidden_size//2),\n",
    "            nn.ReLU(),\n",
    "            nn.Dropout(),\n",
    "            nn.Linear(hidden_size//2, output_size)\n",
    "        )\n",
    "            \n",
    "        self.actv = nn.ReLU()\n",
    "    \n",
    "    def forward(self, x):\n",
    "        # x shape: (B(batch_size=4096), TRAIN_WINDOW_SIZE=90, 5)\n",
    "        batch_size = x.size(0)\n",
    "        hidden = self.init_hidden(batch_size, x.device)\n",
    "        \n",
    "        # LSTM layer\n",
    "        lstm_out, hidden = self.lstm(x, hidden)\n",
    "        \n",
    "        # Only use the last output sequence\n",
    "        last_output = lstm_out[:, -1, :]\n",
    "        \n",
    "        # Fully connected layer\n",
    "        output = self.actv(self.fc(last_output))\n",
    "        \n",
    "        return output.squeeze(1)\n",
    "    \n",
    "    def init_hidden(self, batch_size, device):\n",
    "        # Initialize hidden state and cell state\n",
    "        return (torch.zeros(1, batch_size, self.hidden_size, device=device),\n",
    "                torch.zeros(1, batch_size, self.hidden_size, device=device))"
   ]
  },
  {
   "cell_type": "markdown",
   "id": "d3746a72",
   "metadata": {},
   "source": [
    "### 모델 학습"
   ]
  },
  {
   "cell_type": "code",
   "execution_count": null,
   "id": "ed3678b3",
   "metadata": {},
   "outputs": [],
   "source": [
    "def train(model, optimizer, train_loader, val_loader, device):\n",
    "    model.to(device)\n",
    "    criterion = nn.MSELoss().to(device)\n",
    "    best_loss = 9999999\n",
    "    best_model = None\n",
    "    \n",
    "    for epoch in range(1, CFG['EPOCHS']+1):\n",
    "        model.train()\n",
    "        train_loss = []\n",
    "        train_mae = []\n",
    "        \n",
    "        for X, Y in tqdm(iter(train_loader)):\n",
    "            X = X.to(device)\n",
    "            Y = Y.to(device)\n",
    "            \n",
    "            optimizer.zero_grad()\n",
    "            \n",
    "            output = model(X)\n",
    "            loss = criterion(output, Y)\n",
    "            \n",
    "            loss.backward()\n",
    "            optimizer.step()\n",
    "            \n",
    "            train_loss.append(loss.item())\n",
    "        \n",
    "        val_loss = validation(model, val_loader, criterion, device)\n",
    "        print(f'Epoch : [{epoch}] Train Loss : [{np.mean(train_loss):.5f}] Val Loss : [{val_loss:.5f}]')\n",
    "        \n",
    "        if best_loss > val_loss:\n",
    "            best_loss = val_loss\n",
    "            best_model = model\n",
    "            print('Model Saved')\n",
    "            \n",
    "    return best_model"
   ]
  },
  {
   "cell_type": "code",
   "execution_count": null,
   "id": "7d770d34",
   "metadata": {},
   "outputs": [],
   "source": [
    "def validation(model, val_loader, criterion, device):\n",
    "    model.eval()\n",
    "    val_loss = []\n",
    "    \n",
    "    with torch.no_grad():\n",
    "        for X, Y in tqdm(iter(val_loader)):\n",
    "            X = X.to(device)\n",
    "            Y = Y.to(device)\n",
    "            \n",
    "            output = model(X)\n",
    "            loss = criterion(output, Y)\n",
    "            \n",
    "            val_loss.append(loss.item())\n",
    "    return np.mean(val_loss)"
   ]
  },
  {
   "cell_type": "markdown",
   "id": "3a158d21",
   "metadata": {},
   "source": [
    "## Run !!"
   ]
  },
  {
   "cell_type": "code",
   "execution_count": null,
   "id": "ce0bb50b",
   "metadata": {},
   "outputs": [
    {
     "data": {
      "application/vnd.jupyter.widget-view+json": {
       "model_id": "841fa9815b8946d5bcd20610ce50375f",
       "version_major": 2,
       "version_minor": 0
      },
      "text/plain": [
       "  0%|          | 0/1046 [00:00<?, ?it/s]"
      ]
     },
     "metadata": {},
     "output_type": "display_data"
    }
   ],
   "source": [
    "model = BaseModel()\n",
    "optimizer = torch.optim.Adam(params = model.parameters(), lr = CFG[\"LEARNING_RATE\"])\n",
    "infer_model = train(model, optimizer, train_loader, val_loader, device)"
   ]
  }
 ],
 "metadata": {
  "kernelspec": {
   "display_name": "Python 3 (ipykernel)",
   "language": "python",
   "name": "python3"
  },
  "language_info": {
   "codemirror_mode": {
    "name": "ipython",
    "version": 3
   },
   "file_extension": ".py",
   "mimetype": "text/x-python",
   "name": "python",
   "nbconvert_exporter": "python",
   "pygments_lexer": "ipython3",
   "version": "3.11.4"
  }
 },
 "nbformat": 4,
 "nbformat_minor": 5
}
